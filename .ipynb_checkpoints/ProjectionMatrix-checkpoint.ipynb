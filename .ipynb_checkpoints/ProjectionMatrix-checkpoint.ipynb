{
 "cells": [
  {
   "cell_type": "code",
   "execution_count": 70,
   "metadata": {},
   "outputs": [],
   "source": [
    "import numpy as np\n",
    "import pandas as pd\n",
    "from numpy import linalg as LA\n",
    "import matplotlib.pyplot as plt"
   ]
  },
  {
   "cell_type": "code",
   "execution_count": 76,
   "metadata": {},
   "outputs": [],
   "source": [
    "def principalComponents(train):\n",
    "    \n",
    "    W, V = LA.eig(np.matmul(np.array(A),np.array(A.T)))\n",
    "    \n",
    "    for i in range(len(W)):\n",
    "        W[i] = abs(W[i])**0.5\n",
    "    \n",
    "    K = sorted(W ,reverse = True)\n",
    "    return W, V, K\n",
    "\n",
    "\n",
    "def plotPrincipalComponents(train ,sortedPrincipalComponents, n):\n",
    "    \n",
    "    X_axis = range(1,len(train)+1)\n",
    "    \n",
    "    plt.bar(X_axis[:n],sortedPrincipalComponents[:n])\n",
    "    plt.xlabel(\"Sr. no. of singular value\")\n",
    "    plt.ylabel(\"Principal Singular value\")\n",
    "    plt.title(\"First 50 Principal Components\")\n",
    "    plt.show()\n",
    "    \n",
    "    \n",
    "def reduced_train_test_data(A,Z,W,V,K,l):        # A is train dataset\n",
    "                                                 # Z is test dataset\n",
    "                                                 # W is eigenvalues of A\n",
    "                                                 # V is eigenvectors\n",
    "                                                 # K is sorted eigenvalues\n",
    "                                                 # l is the required dimension of each data point\n",
    "    \n",
    "    #Principal Components\n",
    "    W = list(W)\n",
    "    s = []\n",
    "    \n",
    "    \n",
    "    for i in range(l):\n",
    "        s.append(W.index(K[i]))\n",
    "        \n",
    "    #Orthogonal Matrix U\n",
    "    U = pd.DataFrame(V[:,s])\n",
    "    \n",
    "    #Diagonal Matrix S(σ)\n",
    "    S = pd.DataFrame(np.diag(K[0:l]))\n",
    "    \n",
    "    #Matrix Multiplication of U and σ to give l dimensional dataset\n",
    "    reduced_train_data = pd.DataFrame(np.matmul(U,S))\n",
    "    \n",
    "    #Mention the classes of each train datapoint\n",
    "    y = [j for j in [0,1,2,3,4,5,6,7,8,9] for i in range(52)]\n",
    "    reduced_train_data[\"class\"] = y\n",
    "    \n",
    "    #Reducing the dimension using SVD to give l dimensional test dataset\n",
    "    Vs = pd.DataFrame(np.matmul(np.array(A.T),np.array(U)))\n",
    "    S_inverse = LA.inv(S)\n",
    "    \n",
    "    V = pd.DataFrame(np.matmul(Vs,S_inverse))\n",
    "    \n",
    "    reduced_test_data = pd.DataFrame(np.matmul(np.array(Z),np.array(V)))\n",
    "    \n",
    "    \n",
    "    #Mention the classes of each test datapoint \n",
    "    y_test = [j for j in [0,1,2,3,4,5,6,7,8,9] for i in range(12)]\n",
    "    reduced_test_data[\"class\"] = y_test\n",
    "    \n",
    "    \n",
    "    return reduced_train_data,reduced_test_data\n",
    "\n",
    "\n",
    "\n",
    "\n",
    "def new_accuracy(A,Z,W,V,K,l):\n",
    "    \n",
    "    #reducing the dimensions\n",
    "    reduced_train_data,reduced_test_data = reduced_train_test_data(A,Z,W,V,K,l)\n",
    "    \n",
    "    #grouping data for each class\n",
    "    s = reduced_train_data.groupby([\"class\"])\n",
    "    \n",
    "    #Making projection matrix for each class\n",
    "    P = []\n",
    "    \n",
    "    for i in range(10):\n",
    "        \n",
    "        m = s.get_group(i)\n",
    "        m = m.iloc[:,:-1]\n",
    "        m = m.T\n",
    "        Inv = LA.pinv(m)\n",
    "        P.append(pd.DataFrame(np.matmul(np.array(m),Inv)))\n",
    "    \n",
    "    #predictions for test data\n",
    "    test_pred_class = []\n",
    "    \n",
    "    for i in range(len(reduced_test_data)):\n",
    "        \n",
    "        u = np.array(reduced_test_data.iloc[i,:-1])\n",
    "        dist = []\n",
    "        \n",
    "        #Calculating distance from each projection matrix\n",
    "        for j in range(10):\n",
    "            \n",
    "            p = np.matmul(np.array(P[j]),np.array(u.T))\n",
    "            dist.append(np.matmul(np.array(u-p),np.array((u-p).T)))\n",
    "        \n",
    "        #Classifying it as ith class for the least distanced subspace of matrix i\n",
    "        test_pred_class.append(np.argmin(dist))\n",
    "        \n",
    "    y_true = [j for j in [0,1,2,3,4,5,6,7,8,9] for i in range(12)]\n",
    "    count = 0\n",
    "    \n",
    "    #Calculating total number of test data points correctly classified\n",
    "    for i in range(120):\n",
    "        \n",
    "        if(y_true[i]==test_pred_class[i]):\n",
    "            count+=1\n",
    "            \n",
    "    return P,test_pred_class,(count/120)*100"
   ]
  },
  {
   "cell_type": "code",
   "execution_count": 72,
   "metadata": {},
   "outputs": [
    {
     "data": {
      "image/png": "[encoded data removed]",
      "text/plain": [
       "<Figure size 432x288 with 1 Axes>"
      ]
     },
     "metadata": {},
     "output_type": "display_data"
    }
   ],
   "source": [
    "from dataset import A, Z    # Training Set = A, Test Set = Z\n",
    "\n",
    "W, V, K = principalComponents(A)\n",
    "\n",
    "plotPrincipalComponents(A, K, 50)"
   ]
  },
  {
   "cell_type": "code",
   "execution_count": 81,
   "metadata": {},
   "outputs": [],
   "source": [
    "P, pred, accuracy = (new_accuracy(A,Z,W,V,K,134))"
   ]
  },
  {
   "cell_type": "code",
   "execution_count": 82,
   "metadata": {},
   "outputs": [
    {
     "name": "stdout",
     "output_type": "stream",
     "text": [
      "91.66666666666666\n"
     ]
    }
   ],
   "source": [
    "print(accuracy)"
   ]
  },
  {
   "cell_type": "code",
   "execution_count": null,
   "metadata": {},
   "outputs": [],
   "source": []
  },
  {
   "cell_type": "code",
   "execution_count": null,
   "metadata": {},
   "outputs": [],
   "source": []
  },
  {
   "cell_type": "code",
   "execution_count": null,
   "metadata": {},
   "outputs": [],
   "source": []
  },
  {
   "cell_type": "code",
   "execution_count": null,
   "metadata": {},
   "outputs": [],
   "source": []
  }
 ],
 "metadata": {
  "kernelspec": {
   "display_name": "Python 3",
   "language": "python",
   "name": "python3"
  },
  "language_info": {
   "codemirror_mode": {
    "name": "ipython",
    "version": 3
   },
   "file_extension": ".py",
   "mimetype": "text/x-python",
   "name": "python",
   "nbconvert_exporter": "python",
   "pygments_lexer": "ipython3",
   "version": "3.6.5"
  }
 },
 "nbformat": 4,
 "nbformat_minor": 2
}
